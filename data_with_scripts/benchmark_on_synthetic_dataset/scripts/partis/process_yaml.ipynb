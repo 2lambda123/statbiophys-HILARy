{
  "cells" : [
    {
      "cell_type" : "code",
      "execution_count" : null,
      "metadata" : {},
      "outputs" : [],
      "source" : [ "import yaml\n", "import pandas as pd\n" ]
    },
    {
      "cell_type" : "code",
      "execution_count" : null,
      "metadata" : {},
      "outputs" : [],
      "source" : [
        "def invert_dictionary(input_dict):\n", "    inverted_dict = {}\n",
        "    for key, values in input_dict.items():\n",
        "        for value in values:\n",
        "            inverted_dict[value] = key\n", "    return inverted_dict\n"
      ]
    },
    {
      "cell_type" : "code",
      "execution_count" : null,
      "metadata" : {},
      "outputs" : [],
      "source" :
          ["dirname = "
           "\"/home/gabrielathenes/Documents/study/HILARy/data_with_scripts/"
           "benchmark_on_synthetic_dataset/partis/\"\n"]
    },
    {
      "cell_type" : "code",
      "execution_count" : null,
      "metadata" : {},
      "outputs" : [],
      "source" : [
        "for subset in range(1,6):\n", "    for l in range(15,48,3):\n",
        "        filename = "
        "f'families{subset}_1e4_ppost326651_mut326713_cdr3l{l}.fasta.yaml'\n",
        "        with open(dirname+filename, 'r') as f:\n",
        "            valuesYaml = yaml.load(f, Loader=yaml.FullLoader)\n",
        "        index2clone = "
        "invert_dictionary(dict(enumerate(valuesYaml['partitions'][0]['"
        "partition']))) # take the most likely partition and create a "
        "{sequence_id: clone_id} map\n",
        "\n",
        "        df = "
        "pd.read_csv(dirname+filename.replace('.fasta.yaml','.csv.gz'))\n",
        "        df['true_family'] = df.FAMILY\n",
        "        df['sequence_id'] = df.index.astype(str)\n",
        "        df['clone_id'] =  df.sequence_id.map(index2clone) # maps "
        "partis result to the dataframe\n",
        "        "
        "df.to_csv(f\"{dirname}/"
        "families{subset}_1e4_ppost326651_mut326713_cdr3l{l}_partis-pass.csv\")"
        "\n"
      ]
    }
  ],
  "metadata" : {
    "kernelspec" :
        {"display_name" : "hilary", "language" : "python", "name" : "python3"},
    "language_info" : {
      "codemirror_mode" : {"name" : "ipython", "version" : 3},
      "file_extension" : ".py",
      "mimetype" : "text/x-python",
      "name" : "python",
      "nbconvert_exporter" : "python",
      "pygments_lexer" : "ipython3",
      "version" : "3.9.6"
    }
  },
  "nbformat" : 4,
  "nbformat_minor" : 2
}
