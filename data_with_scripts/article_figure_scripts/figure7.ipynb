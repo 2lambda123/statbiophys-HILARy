{
  "cells": [
  {
   "cell_type": "markdown",
   "metadata": {},
   "source": [
    "# Notebook to create figure 5"
   ]
  },
  {
   "cell_type": "markdown",
   "metadata": {},
   "source": [
    "## Prerequisites"
   ]
  },
  {
   "cell_type": "markdown",
   "metadata": {},
   "source": [
    "Clone HILARy then move your working directory `.../HILARy/` by running similar line"
   ]
  },
  {
   "cell_type": "code",
   "execution_count": null,
   "metadata": {
    "vscode": {
     "languageId": "shellscript"
    }
   },
   "outputs": [],
   "source": [
    "cd /home/gabrielathenes/Documents/study/HILARy\n"
   ]
  },
  {
   "cell_type": "markdown",
   "metadata": {},
   "source": [
    "For reproducibility here are the used libraries "
   ]
  },
  {
   "cell_type": "code",
   "execution_count": null,
   "metadata": {
    "vscode": {
     "languageId": "shellscript"
    }
   },
   "outputs": [],
   "source": [
    "!pip freeze\n"
   ]
  },
  {
   "cell_type": "markdown",
   "metadata": {},
   "source": [
    "### Importing libraries"
   ]
  },
  {
   "cell_type": "code",
   "execution_count": null,
   "metadata": {},
   "outputs": [],
   "source": [
    "import matplotlib as mpl\n",
    "mpl.rcParams.update(mpl.rcParamsDefault)\n",
    "import pandas as pd\n",
    "import numpy as np\n",
    "import matplotlib.pyplot as plt\n",
    "get_ipython().run_line_magic('matplotlib', 'inline')\n",
    "font = {'weight': 'normal', 'size': 14, 'family': 'DejaVu Sans'}\n",
    "plt.rc('text', usetex=True)\n",
    "plt.rc('font', **font)\n",
    "from tqdm import tqdm\n",
    "import os\n",
    "from multiprocessing import Pool, cpu_count\n",
    "from collections import Counter\n",
    "from matplotlib.ticker import FixedLocator\n",
    "from Bio.Seq import translate\n",
    "\n",
    "pd.options.mode.chained_assignment = None  # default='warn'\n"
   ]
  },
  {
   "cell_type": "markdown",
   "metadata": {},
   "source": [
    "### Reading data"
   ]
  },
  {
   "cell_type": "markdown",
   "metadata": {},
   "source": [
    "Philogenies inferred with the tutorial are at `.../HILARy/benchmark/briney_dataset/briney_clonal_families.csv`.\n",
    "\n",
    "Otherwise you can download them from [zenodo](https://zenodo.org/records/10676371?preview=1)"
   ]
  },
  {
   "cell_type": "code",
   "execution_count": null,
   "metadata": {
    "vscode": {
     "languageId": "shellscript"
    }
   },
   "outputs": [],
   "source": [
    "cd /home/gabrielathenes/Documents/study/HILARy\n"
   ]
  },
  {
   "cell_type": "code",
   "execution_count": null,
   "metadata": {},
   "outputs": [],
   "source": [
    "filename = \"./data_with_scripts/data_from_briney/briney_clonal_families.csv.gz\"\n",
    "dataframe_briney = pd.read_csv(filename)\n",
    "dataframe_briney = dataframe_briney.query(\n",
    "    \"cdr3_length%3==0 and cdr3_length<106 and cdr3_length>14\"\n",
    ")\n"
   ]
  },
  {
   "cell_type": "markdown",
   "metadata": {},
   "source": [
    "### Creating color map"
   ]
  },
  {
   "cell_type": "code",
   "execution_count": null,
   "metadata": {},
   "outputs": [],
   "source": [
    "from matplotlib.colors import LinearSegmentedColormap\n",
    "\n",
    "cm_data = [[0.2081, 0.1663, 0.5292], [0.2116238095, 0.1897809524, 0.5776761905],\n",
    " [0.212252381, 0.2137714286, 0.6269714286], [0.2081, 0.2386, 0.6770857143],\n",
    " [0.1959047619, 0.2644571429, 0.7279], [0.1707285714, 0.2919380952,\n",
    "  0.779247619], [0.1252714286, 0.3242428571, 0.8302714286],\n",
    " [0.0591333333, 0.3598333333, 0.8683333333], [0.0116952381, 0.3875095238,\n",
    "  0.8819571429], [0.0059571429, 0.4086142857, 0.8828428571],\n",
    " [0.0165142857, 0.4266, 0.8786333333], [0.032852381, 0.4430428571,\n",
    "  0.8719571429], [0.0498142857, 0.4585714286, 0.8640571429],\n",
    " [0.0629333333, 0.4736904762, 0.8554380952], [0.0722666667, 0.4886666667,\n",
    "  0.8467], [0.0779428571, 0.5039857143, 0.8383714286],\n",
    " [0.079347619, 0.5200238095, 0.8311809524], [0.0749428571, 0.5375428571,\n",
    "  0.8262714286], [0.0640571429, 0.5569857143, 0.8239571429],\n",
    " [0.0487714286, 0.5772238095, 0.8228285714], [0.0343428571, 0.5965809524,\n",
    "  0.819852381], [0.0265, 0.6137, 0.8135], [0.0238904762, 0.6286619048,\n",
    "  0.8037619048], [0.0230904762, 0.6417857143, 0.7912666667],\n",
    " [0.0227714286, 0.6534857143, 0.7767571429], [0.0266619048, 0.6641952381,\n",
    "  0.7607190476], [0.0383714286, 0.6742714286, 0.743552381],\n",
    " [0.0589714286, 0.6837571429, 0.7253857143],\n",
    " [0.0843, 0.6928333333, 0.7061666667], [0.1132952381, 0.7015, 0.6858571429],\n",
    " [0.1452714286, 0.7097571429, 0.6646285714], [0.1801333333, 0.7176571429,\n",
    "  0.6424333333], [0.2178285714, 0.7250428571, 0.6192619048],\n",
    " [0.2586428571, 0.7317142857, 0.5954285714], [0.3021714286, 0.7376047619,\n",
    "  0.5711857143], [0.3481666667, 0.7424333333, 0.5472666667],\n",
    " [0.3952571429, 0.7459, 0.5244428571], [0.4420095238, 0.7480809524,\n",
    "  0.5033142857], [0.4871238095, 0.7490619048, 0.4839761905],\n",
    " [0.5300285714, 0.7491142857, 0.4661142857], [0.5708571429, 0.7485190476,\n",
    "  0.4493904762], [0.609852381, 0.7473142857, 0.4336857143],\n",
    " [0.6473, 0.7456, 0.4188], [0.6834190476, 0.7434761905, 0.4044333333],\n",
    " [0.7184095238, 0.7411333333, 0.3904761905],\n",
    " [0.7524857143, 0.7384, 0.3768142857], [0.7858428571, 0.7355666667,\n",
    "  0.3632714286], [0.8185047619, 0.7327333333, 0.3497904762],\n",
    " [0.8506571429, 0.7299, 0.3360285714], [0.8824333333, 0.7274333333, 0.3217],\n",
    " [0.9139333333, 0.7257857143, 0.3062761905], [0.9449571429, 0.7261142857,\n",
    "  0.2886428571], [0.9738952381, 0.7313952381, 0.266647619],\n",
    " [0.9937714286, 0.7454571429, 0.240347619], [0.9990428571, 0.7653142857,\n",
    "  0.2164142857], [0.9955333333, 0.7860571429, 0.196652381],\n",
    " [0.988, 0.8066, 0.1793666667], [0.9788571429, 0.8271428571, 0.1633142857],\n",
    " [0.9697, 0.8481380952, 0.147452381], [0.9625857143, 0.8705142857, 0.1309],\n",
    " [0.9588714286, 0.8949, 0.1132428571], [0.9598238095, 0.9218333333,\n",
    "  0.0948380952], [0.9661, 0.9514428571, 0.0755333333],\n",
    " [0.9763, 0.9831, 0.0538]]\n",
    "\n",
    "parula_map = LinearSegmentedColormap.from_list('parula', cm_data)\n"
   ]
  },
  {
   "cell_type": "code",
   "execution_count": null,
   "metadata": {},
   "outputs": [],
   "source": [
    "colors = [parula_map(0),\n",
    "        parula_map(0.25),\n",
    "        parula_map(0.5),\n",
    "        parula_map(0.75),\n",
    "        parula_map(0.999)]\n"
   ]
  },
  {
   "cell_type": "markdown",
   "metadata": {},
   "source": [
    "### Functions"
   ]
  },
  {
   "cell_type": "code",
   "execution_count": null,
   "metadata": {},
   "outputs": [],
   "source": [
    "def mutInFamily(df):\n",
    "    muts = []\n",
    "    for child, parent in df[\n",
    "        [\"alt_germline_alignment\", \"alt_sequence_alignment\"]\n",
    "    ].values:\n",
    "        for x, (nt, old_nt) in enumerate(zip(child, parent)):\n",
    "            if nt != \"N\" and nt != \".\" and old_nt != \"N\":\n",
    "                if nt != old_nt:\n",
    "                    muts.append((x, nt))\n",
    "    return list(Counter(muts).values())\n",
    "\n",
    "\n",
    "def family2spectra(args):\n",
    "    (l, _), df = args\n",
    "    if len(df) >= 100:\n",
    "        if len(df) > 100:\n",
    "            df = df.sample(n=100)\n",
    "        fracs = mutInFamily(df)\n",
    "    res = pd.DataFrame()\n",
    "    res[\"nu\"] = fracs\n",
    "    res[\"l\"] = l\n",
    "    return res\n",
    "\n",
    "\n",
    "def applyParallel(dfGrouped, func):\n",
    "    with Pool(cpu_count()) as p:\n",
    "        ret_list = list(tqdm(p.imap(func, dfGrouped), total=len(dfGrouped)))\n",
    "    return pd.concat(ret_list, ignore_index=True)\n",
    "\n",
    "\n",
    "def family2dnds(args):\n",
    "    (l, _), df = args\n",
    "    res = pd.DataFrame()\n",
    "    if len(df) >= 100:\n",
    "        if len(df) > 100:\n",
    "            df = df.sample(n=100)\n",
    "\n",
    "        df[\"cdr3aa\"] = df[\"cdr3\"].apply(translate)\n",
    "        naiveCDR3, naiveCDR3AA = df[[\"cdr3\", \"cdr3aa\"]].values[\n",
    "            np.argmin(df[\"mutation_count\"])\n",
    "        ]\n",
    "\n",
    "        substs = []\n",
    "        for cdr3 in set(df[\"cdr3\"]):\n",
    "            for x, (nt, old_nt) in enumerate(zip(cdr3, naiveCDR3)):\n",
    "                if nt != old_nt:\n",
    "                    substs.append(x)\n",
    "\n",
    "        substsAA = []\n",
    "        for cdr3aa in set(df[\"cdr3aa\"]):\n",
    "            for x, (aa, old_aa) in enumerate(zip(cdr3aa, naiveCDR3AA)):\n",
    "                if aa != old_aa:\n",
    "                    substsAA.append(x)\n",
    "\n",
    "        NandS = len(set(substs))\n",
    "        N = len(set(substsAA))\n",
    "        res[\"n\"] = [N]\n",
    "        res[\"s\"] = [NandS - N]\n",
    "        res[\"l\"] = l\n",
    "    return res\n",
    "\n",
    "def forward_logmid(x):\n",
    "    return np.log10(x / (1 - x))\n",
    "\n",
    "\n",
    "def inverse_logmid(y):\n",
    "    return 10**y / (1 + 10**y)\n"
   ]
  },
  {
   "cell_type": "markdown",
   "metadata": {},
   "source": [
    "### Grouping by cdr3 length"
   ]
  },
  {
   "cell_type": "code",
   "execution_count": null,
   "metadata": {},
   "outputs": [],
   "source": [
    "for length, grouped_length in dataframe_briney.groupby(\"cdr3_length\"):\n",
    "    grouped_length.to_csv(\n",
    "        f\"./data_with_scripts/data_from_briney/cdr3l_{length}.csv\"\n",
    "    )\n"
   ]
  },
  {
   "cell_type": "markdown",
   "metadata": {},
   "source": [
    "### Creating 9 quantiles based on cdr3 length"
   ]
  },
  {
   "cell_type": "code",
   "execution_count": null,
   "metadata": {},
   "outputs": [],
   "source": [
    "h,b = np.histogram(dataframe_briney['cdr3_length'],bins=range(120),density=True)\n",
    "qs = np.quantile(dataframe_briney['cdr3_length'], np.linspace(0,1,10+1)).astype(int)\n",
    "quants = []\n",
    "z = len(dataframe_briney)\n",
    "for i in zip(qs,qs[1:]):\n",
    "    if i==(-5,30): i=(0,30)\n",
    "    if i==(45,45): continue\n",
    "    if i ==(42,42): continue\n",
    "    if i==(48,54): i=(48,51)\n",
    "    if i==(54,57): i=(51,57)\n",
    "    mask = (dataframe_briney['cdr3_length'] > i[0]) & (dataframe_briney['cdr3_length'] <= i[1])\n",
    "    quants.append(i)\n"
   ]
  },
  {
   "cell_type": "markdown",
   "metadata": {},
   "source": [
    "### Creating histograms of family size for each cdr3 length"
   ]
  },
  {
   "cell_type": "code",
   "execution_count": null,
   "metadata": {},
   "outputs": [],
   "source": [
    "ls = np.arange(15,105+3,3)\n",
    "\n",
    "usecols = ['family']\n",
    "bins = np.arange(int(3e4))\n",
    "hs = []\n",
    "\n",
    "for l in tqdm(ls):\n",
    "    filename_output = f\"./data_with_scripts/data_from_briney/cdr3l_{l}.csv\"\n",
    "    if os.path.exists(filename_output):\n",
    "        df = pd.read_csv(filename_output,usecols=usecols)\n",
    "        h,_ = np.histogram(df.groupby('family').size(),bins=bins,density=False)\n",
    "        hs.append(h)\n",
    "    else : print(l)\n",
    "hs = np.array(hs)\n"
   ]
  },
  {
   "cell_type": "code",
   "execution_count": null,
   "metadata": {},
   "outputs": [],
   "source": [
    "masks_size = np.array([(ls>lmin) & (ls<=lmax) for (lmin,lmax) in quants])\n"
   ]
  },
  {
   "cell_type": "markdown",
   "metadata": {},
   "source": [
    "### Get mutation frequencies "
   ]
  },
  {
   "cell_type": "code",
   "execution_count": null,
   "metadata": {},
   "outputs": [],
   "source": [
    "all_res_dnds = pd.DataFrame()\n",
    "all_res_spectra = pd.DataFrame()\n",
    "\n",
    "for l in ls:\n",
    "    filename_output = f\"./data_with_scripts/data_from_briney/cdr3l_{l}.csv\"\n",
    "    if os.path.exists(filename_output):\n",
    "        df = pd.read_csv(\n",
    "            filename_output,\n",
    "            usecols=[\n",
    "                \"cdr3_length\",\n",
    "                \"family\",\n",
    "                \"mutation_count\",\n",
    "                \"cdr3\",\n",
    "                \"alt_sequence_alignment\",\n",
    "                \"alt_germline_alignment\",\n",
    "            ],\n",
    "        )\n",
    "        dfGrouped = df.groupby([\"cdr3_length\", \"family\"])\n",
    "        sizes = dfGrouped.size()\n",
    "        mask = sizes>=100\n",
    "        large = sizes[mask].index\n",
    "        if large.empty:\n",
    "            continue\n",
    "        res_spectra = applyParallel([(g, dfGrouped.get_group(g)) for g in large], family2spectra)\n",
    "        all_res_spectra = pd.concat([all_res_spectra, res_spectra], ignore_index=True)\n",
    "        res_dnds = applyParallel([(g,dfGrouped.get_group(g)) for g in large],family2dnds)\n",
    "        all_res_dnds = pd.concat([all_res_dnds,res_dnds],ignore_index=True)\n",
    "masks_dnds = np.array(\n",
    "    [(all_res_dnds.l > lmin) & (all_res_dnds.l <= lmax) for (lmin, lmax) in quants]\n",
    ")\n",
    "bins_dnds = np.logspace(-2, 2, 24)\n",
    "masks_spectra = np.array(\n",
    "    [(all_res_spectra.l > lmin) & (all_res_spectra.l <= lmax) for (lmin, lmax) in quants]\n",
    ")\n"
   ]
  },
  {
   "cell_type": "code",
   "execution_count": null,
   "metadata": {},
   "outputs": [],
   "source": [
    "plt.rcParams.update({'font.size': 20})\n",
    "unitx = 510*0.01389*2.5\n",
    "unity = 200*0.01389*2.5\n",
    "fig = plt.figure(figsize=(unitx,0.8*unity))\n",
    "\n",
    "ax1 = fig.add_subplot(131)\n",
    "ax1.set_ylabel('Distribution')\n",
    "ax1.set_xlabel('Family size $z$')\n",
    "ax2 = fig.add_subplot(132)\n",
    "ax2.set_ylabel('Distribution')\n",
    "ax2.set_xlabel(r'Mutation frequency $\\nu$')\n",
    "ax3 = fig.add_subplot(133)\n",
    "ax3.set_ylabel('Distribution')\n",
    "ax3.set_xlabel('Lineage $d_N/d_S$ ratio')\n",
    "\n",
    "imax=len(masks_size)-1\n",
    "bins = np.arange(int(3e4))\n",
    "for i,mask in enumerate(masks_size):\n",
    "    color = parula_map(i/imax)\n",
    "    h = hs[mask].sum(axis=0)\n",
    "    ax1.loglog(bins[:-1],h/sum(h),color=color)\n",
    "ax1.set_xlim(1,2e4)\n",
    "ax1.set_ylim(1.5e-5,1)\n",
    "\n",
    "ax11 = ax1.inset_axes([0.48,0.48,0.5,0.5])\n",
    "\n",
    "imax=len(quants)-1\n",
    "z=len(dataframe_briney)\n",
    "for i,(lmin,lmax) in enumerate(quants):\n",
    "    color = parula_map(i/imax)\n",
    "    bins = np.arange(lmin,lmax+3,3)+3\n",
    "    mask = (dataframe_briney['cdr3_length'] > lmin) & (dataframe_briney['cdr3_length'] <= lmax)\n",
    "    h,b = np.histogram(dataframe_briney.loc[mask]['cdr3_length'],bins=bins,density=False)\n",
    "    ax11.bar(b[:-1],h/z,width=3,color=color,edgecolor=color,linewidth=0)\n",
    "\n",
    "ax11.set_xticks(np.arange(15,81+3,15))\n",
    "ax11.set_xlim([15-1,81+1])\n",
    "ax11.set_ylim(ymin=0)\n",
    "ax11.set_xlabel('CDR3 length $l$')\n",
    "ax11.set_yticks([])\n",
    "ax11.minorticks_off()\n",
    "\n",
    "size=100\n",
    "bins=np.arange(size+1)\n",
    "for i,mask in enumerate(masks_spectra):\n",
    "    color = parula_map(i/imax)\n",
    "    h,b = np.histogram(all_res_spectra.loc[mask]['nu'].values,bins=bins,density=True)\n",
    "    ax2.plot(b[1:-1]/size,h[1:],'-',color=color)\n",
    "\n",
    "ax2.set_xscale('function', functions=(forward_logmid, inverse_logmid))\n",
    "locs = np.array([0.01, 0.1, 0.5, 0.9, 0.99])\n",
    "ax2.xaxis.set_major_locator(FixedLocator(locs))\n",
    "ax2.set_xticklabels(locs)\n",
    "locs = list(np.arange(0.01,0.1,0.01))+list(np.arange(0.1,1,0.1))+list(0.9+np.arange(0.01,0.1,0.01))\n",
    "ax2.xaxis.set_minor_locator(FixedLocator(locs))\n",
    "\n",
    "ax2.set_yscale('log')\n",
    "# ax.set_ylim(7e-4, 0.5)\n",
    "\n",
    "for i,mask3 in enumerate(masks_dnds):\n",
    "    color = parula_map(i/imax)\n",
    "    ns,ss = all_res_dnds.loc[mask3][['n','s']].values.T\n",
    "    h,b = np.histogram(ns[ss>0]/ss[ss>0],bins=bins_dnds,density=True)\n",
    "    ax3.plot(b[:-1][h>0],h[h>0],'-',color=color)\n",
    "    #ax.axvline((ns[ss>0]/ss[ss>0]).mean(),color=color)\n",
    "\n",
    "ax3.set_xscale('log')\n",
    "ax3.set_yscale('log')\n",
    "ax3.set_xlim(1/10,10)\n",
    "ax3.set_ylim(ymin=8e-4)\n",
    "plt.tight_layout(pad=1.8)\n",
    "plt.text(0.00000015, 1.55, r\"\\bf{A}\", rotation=0, wrap=True, fontsize=28)\n",
    "plt.text(0.00005, 1.55, r\"\\bf{B}\", rotation=0, wrap=True, fontsize=28)\n",
    "plt.text(0.023, 1.55, r\"\\bf{C}\", rotation=0, wrap=True, fontsize=28)\n",
    "plt.savefig(\n",
    "    \"/home/gabrielathenes/Dropbox/Natanael_lineages_inference/revisions_2024_01_26/figures/figure7.pdf\",\n",
    ")\n",
    "plt.show()\n"
   ]
  }
 ],
 "metadata": {
  "kernelspec": {
   "display_name": "hilary",
   "language": "python",
   "name": "python3"
  },
  "language_info": {
   "codemirror_mode": {
    "name": "ipython",
    "version": 3
   },
   "file_extension": ".py",
   "mimetype": "text/x-python",
   "name": "python",
   "nbconvert_exporter": "python",
   "pygments_lexer": "ipython3",
   "version": "3.9.6"
  }
 },
 "nbformat": 4,
 "nbformat_minor": 2
}
