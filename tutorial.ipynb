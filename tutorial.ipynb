{
 "cells": [
  {
   "cell_type": "markdown",
   "metadata": {},
   "source": [
    "# **Example inference pipeline**\n",
    "This notebook infers lineages from the [Briney et al. 2019](https://doi.org/10.1038/s41586-019-0879-y) dataset."
   ]
  },
  {
   "cell_type": "markdown",
   "metadata": {},
   "source": [
    "##  1. Download data  \n",
    "Annotated data can be downloaded using links provided in the [briney/grp_paper repository](https://github.com/briney/grp_paper).  \n",
    "Uncomment following two lines to download all data in `./data/`  folder (make sure your current working directory is `.../HILARy/`)"
   ]
  },
  {
   "cell_type": "code",
   "execution_count": 3,
   "metadata": {},
   "outputs": [
    {
     "name": "stdout",
     "output_type": "stream",
     "text": [
      "--2024-02-14 09:46:20--  http://burtonlab.s3.amazonaws.com/sequencing-data/hiseq_2016-supplement/316188_HNCHNBCXY_consensus_UID18-cdr3nt-90_minimal_071817.tar.gz\n",
      "Resolving burtonlab.s3.amazonaws.com (burtonlab.s3.amazonaws.com)... 3.5.28.165, 52.217.40.36, 52.216.77.172, ...\n",
      "Connecting to burtonlab.s3.amazonaws.com (burtonlab.s3.amazonaws.com)|3.5.28.165|:80... connected.\n",
      "HTTP request sent, awaiting response... 200 OK\n",
      "Length: 3551933919 (3,3G) [application/x-tar]\n",
      "Saving to: ‘316188_HNCHNBCXY_consensus_UID18-cdr3nt-90_minimal_071817.tar.gz.1’\n",
      "\n",
      "316188_HNCHNBCXY_co 100%[===================>]   3,31G  35,0MB/s    in 1m 40s  \n",
      "\n",
      "2024-02-14 09:48:01 (33,7 MB/s) - ‘316188_HNCHNBCXY_consensus_UID18-cdr3nt-90_minimal_071817.tar.gz.1’ saved [3551933919/3551933919]\n",
      "\n",
      "consensus-cdr3nt-90_minimal/\n",
      "consensus-cdr3nt-90_minimal/14_consensus.txt\n",
      "\n",
      "gzip: stdin: unexpected end of file\n",
      "tar: Unexpected EOF in archive\n",
      "tar: Unexpected EOF in archive\n",
      "tar: Error is not recoverable: exiting now\n"
     ]
    }
   ],
   "source": [
    "#!wget http://burtonlab.s3.amazonaws.com/sequencing-data/hiseq_2016-supplement/316188_HNCHNBCXY_consensus_UID18-cdr3nt-90_minimal_071817.tar.gz\n",
    "#!tar -xvf 316188_HNCHNBCXY_consensus_UID18-cdr3nt-90_minimal_071817.tar.gz --directory data/\n"
   ]
  },
  {
   "cell_type": "markdown",
   "metadata": {},
   "source": [
    "## 2. Convert Briney data into airr format required by Hilary"
   ]
  },
  {
   "cell_type": "markdown",
   "metadata": {},
   "source": [
    "### 2.1 install required libraries"
   ]
  },
  {
   "cell_type": "code",
   "execution_count": 1,
   "metadata": {},
   "outputs": [
    {
     "name": "stdout",
     "output_type": "stream",
     "text": [
      "\u001b[31mERROR: Could not find a version that satisfies the requirement os (from versions: none)\u001b[0m\n",
      "\u001b[31mERROR: No matching distribution found for os\u001b[0m\n",
      "\u001b[33mWARNING: You are using pip version 21.1.3; however, version 24.0 is available.\n",
      "You should consider upgrading via the '/home/gathenes/.pyenv/versions/3.9.6/envs/hilary/bin/python3.9 -m pip install --upgrade pip' command.\u001b[0m\n",
      "Requirement already satisfied: tqdm in /home/gathenes/.pyenv/versions/3.9.6/envs/hilary/lib/python3.9/site-packages (4.66.2)\n",
      "\u001b[33mWARNING: You are using pip version 21.1.3; however, version 24.0 is available.\n",
      "You should consider upgrading via the '/home/gathenes/.pyenv/versions/3.9.6/envs/hilary/bin/python3.9 -m pip install --upgrade pip' command.\u001b[0m\n",
      "Requirement already satisfied: pandas in /home/gathenes/.pyenv/versions/3.9.6/envs/hilary/lib/python3.9/site-packages (2.1.4)\n",
      "Requirement already satisfied: tzdata>=2022.1 in /home/gathenes/.pyenv/versions/3.9.6/envs/hilary/lib/python3.9/site-packages (from pandas) (2024.1)\n",
      "Requirement already satisfied: pytz>=2020.1 in /home/gathenes/.pyenv/versions/3.9.6/envs/hilary/lib/python3.9/site-packages (from pandas) (2024.1)\n",
      "Requirement already satisfied: numpy<2,>=1.22.4 in /home/gathenes/.pyenv/versions/3.9.6/envs/hilary/lib/python3.9/site-packages (from pandas) (1.26.4)\n",
      "Requirement already satisfied: python-dateutil>=2.8.2 in /home/gathenes/.pyenv/versions/3.9.6/envs/hilary/lib/python3.9/site-packages (from pandas) (2.8.2)\n",
      "Requirement already satisfied: six>=1.5 in /home/gathenes/.pyenv/versions/3.9.6/envs/hilary/lib/python3.9/site-packages (from python-dateutil>=2.8.2->pandas) (1.16.0)\n",
      "\u001b[33mWARNING: You are using pip version 21.1.3; however, version 24.0 is available.\n",
      "You should consider upgrading via the '/home/gathenes/.pyenv/versions/3.9.6/envs/hilary/bin/python3.9 -m pip install --upgrade pip' command.\u001b[0m\n",
      "Requirement already satisfied: biopython in /home/gathenes/.pyenv/versions/3.9.6/envs/hilary/lib/python3.9/site-packages (1.83)\n",
      "Requirement already satisfied: numpy in /home/gathenes/.pyenv/versions/3.9.6/envs/hilary/lib/python3.9/site-packages (from biopython) (1.26.4)\n",
      "\u001b[33mWARNING: You are using pip version 21.1.3; however, version 24.0 is available.\n",
      "You should consider upgrading via the '/home/gathenes/.pyenv/versions/3.9.6/envs/hilary/bin/python3.9 -m pip install --upgrade pip' command.\u001b[0m\n"
     ]
    }
   ],
   "source": [
    "!pip install os\n",
    "!pip install tqdm\n",
    "!pip install pandas\n",
    "!pip install biopython\n"
   ]
  },
  {
   "cell_type": "markdown",
   "metadata": {},
   "source": [
    "### 2.2 Process briney data"
   ]
  },
  {
   "cell_type": "code",
   "execution_count": 2,
   "metadata": {},
   "outputs": [],
   "source": [
    "import os\n",
    "import pandas as pd\n",
    "from tqdm import tqdm\n",
    "from hilary.utils import create_classes\n"
   ]
  },
  {
   "cell_type": "code",
   "execution_count": 6,
   "metadata": {},
   "outputs": [
    {
     "name": "stderr",
     "output_type": "stream",
     "text": [
      "  0%|          | 0/1 [00:00<?, ?it/s]"
     ]
    },
    {
     "name": "stderr",
     "output_type": "stream",
     "text": [
      "100%|██████████| 1/1 [00:08<00:00,  8.27s/it]\n"
     ]
    }
   ],
   "source": [
    "from compatible import Compatible\n",
    "compatible = Compatible()\n",
    "usecols = [\n",
    "    \"seq_id\",\n",
    "    \"chain\",\n",
    "    \"productive\",\n",
    "    \"v_full\",\n",
    "    \"j_full\",\n",
    "    \"cdr3_nt\",\n",
    "    \"v_start\",\n",
    "    \"vdj_nt\",\n",
    "    \"isotype\",\n",
    "]\n",
    "dirname = \"./data/consensus-cdr3nt-90_minimal\"\n",
    "dfs = []\n",
    "for filename in tqdm(os.listdir(dirname)):\n",
    "    df = pd.read_csv(os.path.join(dirname, filename), usecols=usecols)\n",
    "    dfs.append(compatible.df2airr(df))\n",
    "df = pd.concat(dfs, ignore_index=True)\n",
    "df[\"sequence_id\"] = df.index\n",
    "filename = \"./data/316188_ids.tsv.gz\"\n",
    "df[[\"seq_id\", \"sequence_id\"]].to_csv(filename, sep=\"\\t\", index=False)\n",
    "df.drop(\"seq_id\", axis=1, inplace=True)\n",
    "filename = \"./data/316188.tsv.gz\"\n",
    "usecols = [\n",
    "    \"sequence_id\",\n",
    "    \"v_call\",\n",
    "    \"j_call\",\n",
    "    \"junction\",\n",
    "    \"v_sequence_alignment\",\n",
    "    \"j_sequence_alignment\",\n",
    "    \"v_germline_alignment\",\n",
    "    \"j_germline_alignment\",\n",
    "]\n",
    "df[usecols].to_csv(filename, sep=\"\\t\", index=False)\n"
   ]
  },
  {
   "cell_type": "code",
   "execution_count": 12,
   "metadata": {},
   "outputs": [],
   "source": [
    "usecols = ['sequence_id',\n",
    "        'v_call',\n",
    "        'j_call',\n",
    "        'junction',\n",
    "        'v_sequence_alignment',\n",
    "        'j_sequence_alignment',\n",
    "        'v_germline_alignment',\n",
    "        'j_germline_alignment']\n",
    "filename = 'data/316188.tsv.gz'\n",
    "dataframe = pd.read_table(filename,usecols=usecols)\n"
   ]
  },
  {
   "cell_type": "markdown",
   "metadata": {},
   "source": [
    "## 3. Package tutorial to infer lineages in python script"
   ]
  },
  {
   "cell_type": "markdown",
   "metadata": {},
   "source": [
    "### 3.0 Uncomment next line to run on 100 000 sequences"
   ]
  },
  {
   "cell_type": "code",
   "execution_count": 8,
   "metadata": {},
   "outputs": [],
   "source": [
    "#dataframe=dataframe.head(100000)\n"
   ]
  },
  {
   "cell_type": "markdown",
   "metadata": {},
   "source": [
    "### 3.1 Create apriori object"
   ]
  },
  {
   "cell_type": "code",
   "execution_count": 13,
   "metadata": {},
   "outputs": [],
   "source": [
    "from hilary.apriori import Apriori\n",
    "apriori = Apriori(silent=False, threads=-1) # show progress bars, use all threads\n"
   ]
  },
  {
   "cell_type": "code",
   "execution_count": 14,
   "metadata": {},
   "outputs": [
    {
     "name": "stderr",
     "output_type": "stream",
     "text": [
      "100%|██████████| 2886/2886 [00:41<00:00, 68.90it/s] \n"
     ]
    }
   ],
   "source": [
    "dataframe_processed = apriori.preprocess(df=dataframe, df_kappa=None)\n",
    "apriori.classes= create_classes(dataframe_processed)\n"
   ]
  },
  {
   "cell_type": "markdown",
   "metadata": {},
   "source": [
    "### 3.2 Infer histogram, parameters rho and mu, and sensitivity & precision thresholds for all classes"
   ]
  },
  {
   "cell_type": "code",
   "execution_count": 16,
   "metadata": {},
   "outputs": [
    {
     "name": "stdout",
     "output_type": "stream",
     "text": [
      "2024-02-14 12:27:44 [debug    ] Computing CDR3 hamming distances within all large VJl classes.\n"
     ]
    },
    {
     "name": "stderr",
     "output_type": "stream",
     "text": [
      "100%|██████████| 2103/2103 [00:10<00:00, 192.25it/s] \n",
      "100%|██████████| 2103/2103 [00:03<00:00, 661.16it/s]\n",
      "100%|██████████| 52/52 [00:00<00:00, 276.76it/s]\n"
     ]
    }
   ],
   "source": [
    "apriori.get_histograms(dataframe_processed)\n",
    "apriori.get_parameters()\n",
    "apriori.get_thresholds()\n"
   ]
  },
  {
   "cell_type": "markdown",
   "metadata": {},
   "source": [
    "### 3.3 Create hilary object from apriori"
   ]
  },
  {
   "cell_type": "code",
   "execution_count": 17,
   "metadata": {},
   "outputs": [],
   "source": [
    "from hilary.inference import HILARy\n",
    "hilary=HILARy(apriori) # hilary.df is what is being updated by the algorithm\n"
   ]
  },
  {
   "cell_type": "markdown",
   "metadata": {},
   "source": [
    "### 3.4 Compute precise and sensitive clusters"
   ]
  },
  {
   "cell_type": "code",
   "execution_count": 18,
   "metadata": {},
   "outputs": [
    {
     "name": "stderr",
     "output_type": "stream",
     "text": [
      "100%|██████████| 2886/2886 [00:02<00:00, 1427.18it/s]\n",
      "100%|██████████| 2886/2886 [00:02<00:00, 1347.35it/s]\n"
     ]
    }
   ],
   "source": [
    "dataframe_cdr3=hilary.compute_prec_sens_clusters(df=dataframe_processed)\n"
   ]
  },
  {
   "cell_type": "markdown",
   "metadata": {},
   "source": [
    "### 3.5 Infer clonal families from these clusters"
   ]
  },
  {
   "cell_type": "code",
   "execution_count": 19,
   "metadata": {},
   "outputs": [
    {
     "name": "stdout",
     "output_type": "stream",
     "text": [
      "2024-02-14 12:28:37 [debug    ] Checking alignment length.     alignment_length=271\n",
      "2024-02-14 12:28:37 [debug    ] Inferring family clusters for small groups.\n"
     ]
    },
    {
     "name": "stderr",
     "output_type": "stream",
     "text": [
      "100%|██████████| 8294/8294 [04:44<00:00, 29.10it/s]\n"
     ]
    },
    {
     "name": "stdout",
     "output_type": "stream",
     "text": [
      "2024-02-14 12:33:24 [debug    ] Inferring family clusters for large groups.\n"
     ]
    }
   ],
   "source": [
    "dataframe_inferred = hilary.infer(df=dataframe_cdr3)\n"
   ]
  }
 ],
 "metadata": {
  "kernelspec": {
   "display_name": "sra",
   "language": "python",
   "name": "python3"
  },
  "language_info": {
   "codemirror_mode": {
    "name": "ipython",
    "version": 3
   },
   "file_extension": ".py",
   "mimetype": "text/x-python",
   "name": "python",
   "nbconvert_exporter": "python",
   "pygments_lexer": "ipython3",
   "version": "3.9.6"
  }
 },
 "nbformat": 4,
 "nbformat_minor": 4
}
