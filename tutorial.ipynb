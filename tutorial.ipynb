{
 "cells": [
  {
   "cell_type": "markdown",
   "metadata": {},
   "source": [
    "# **Example inference pipeline**\n",
    "This notebook infers lineages from the [Briney et al. 2019](https://doi.org/10.1038/s41586-019-0879-y) dataset."
   ]
  },
  {
   "cell_type": "markdown",
   "metadata": {},
   "source": [
    "##  1. Download data  \n",
    "Annotated data can be downloaded using links provided in the [briney/grp_paper repository](https://github.com/briney/grp_paper).  \n",
    "Uncomment following two lines to download all data in `./data_with_scripts/`  folder (make sure your current working directory is `.../HILARy/`)"
   ]
  },
  {
   "cell_type": "code",
   "execution_count": 1,
   "metadata": {},
   "outputs": [
    {
     "name": "stdout",
     "output_type": "stream",
     "text": [
      "consensus-cdr3nt-90_minimal/\n",
      "consensus-cdr3nt-90_minimal/14_consensus.txt\n",
      "consensus-cdr3nt-90_minimal/6_consensus.txt\n",
      "consensus-cdr3nt-90_minimal/3_consensus.txt\n",
      "consensus-cdr3nt-90_minimal/15_consensus.txt\n",
      "consensus-cdr3nt-90_minimal/16_consensus.txt\n",
      "consensus-cdr3nt-90_minimal/7_consensus.txt\n",
      "consensus-cdr3nt-90_minimal/18_consensus.txt\n",
      "consensus-cdr3nt-90_minimal/10_consensus.txt\n",
      "consensus-cdr3nt-90_minimal/1_consensus.txt\n",
      "consensus-cdr3nt-90_minimal/11_consensus.txt\n",
      "consensus-cdr3nt-90_minimal/9_consensus.txt\n",
      "consensus-cdr3nt-90_minimal/4_consensus.txt\n",
      "consensus-cdr3nt-90_minimal/5_consensus.txt\n",
      "consensus-cdr3nt-90_minimal/8_consensus.txt\n",
      "consensus-cdr3nt-90_minimal/12_consensus.txt\n",
      "consensus-cdr3nt-90_minimal/17_consensus.txt\n",
      "consensus-cdr3nt-90_minimal/2_consensus.txt\n",
      "consensus-cdr3nt-90_minimal/13_consensus.txt\n"
     ]
    }
   ],
   "source": [
    "#!wget http://burtonlab.s3.amazonaws.com/sequencing-data/hiseq_2016-supplement/316188_HNCHNBCXY_consensus_UID18-cdr3nt-90_minimal_071817.tar.gz\n",
    "#!tar -xvf 316188_HNCHNBCXY_consensus_UID18-cdr3nt-90_minimal_071817.tar.gz --directory data_with_scripts/data_from_briney\n"
   ]
  },
  {
   "cell_type": "markdown",
   "metadata": {},
   "source": [
    "## 2. Convert Briney data into airr format required by Hilary"
   ]
  },
  {
   "cell_type": "markdown",
   "metadata": {},
   "source": [
    "### 2.1 install required libraries"
   ]
  },
  {
   "cell_type": "code",
   "execution_count": 2,
   "metadata": {},
   "outputs": [
    {
     "name": "stdout",
     "output_type": "stream",
     "text": [
      "Requirement already satisfied: hilary==1.2.0 in /home/gathenes/gitlab/HILARy (1.2.0)\n",
      "Requirement already satisfied: setuptools<57,>=56 in /home/gathenes/.pyenv/versions/3.9.6/envs/hilary/lib/python3.9/site-packages (from hilary==1.2.0) (56.0.0)\n",
      "Requirement already satisfied: numpy<2,>=1.20.0 in /home/gathenes/.pyenv/versions/3.9.6/envs/hilary/lib/python3.9/site-packages (from hilary==1.2.0) (1.26.4)\n",
      "Requirement already satisfied: openpyxl<4,>=3.1 in /home/gathenes/.pyenv/versions/3.9.6/envs/hilary/lib/python3.9/site-packages (from hilary==1.2.0) (3.1.2)\n",
      "Requirement already satisfied: pandas<2.2,>=2.1 in /home/gathenes/.pyenv/versions/3.9.6/envs/hilary/lib/python3.9/site-packages (from hilary==1.2.0) (2.1.4)\n",
      "Requirement already satisfied: scipy<2,>=1.6 in /home/gathenes/.pyenv/versions/3.9.6/envs/hilary/lib/python3.9/site-packages (from hilary==1.2.0) (1.12.0)\n",
      "Requirement already satisfied: structlog<23,>=22.3.0 in /home/gathenes/.pyenv/versions/3.9.6/envs/hilary/lib/python3.9/site-packages (from hilary==1.2.0) (22.3.0)\n",
      "Requirement already satisfied: textdistance<5,>=4.6 in /home/gathenes/.pyenv/versions/3.9.6/envs/hilary/lib/python3.9/site-packages (from hilary==1.2.0) (4.6.1)\n",
      "Requirement already satisfied: tqdm<5,>=4.66 in /home/gathenes/.pyenv/versions/3.9.6/envs/hilary/lib/python3.9/site-packages (from hilary==1.2.0) (4.66.2)\n",
      "Requirement already satisfied: typer<1,>=0.9 in /home/gathenes/.pyenv/versions/3.9.6/envs/hilary/lib/python3.9/site-packages (from hilary==1.2.0) (0.9.0)\n",
      "Requirement already satisfied: atriegc<1.0.0,>=0.0.3 in /home/gathenes/.pyenv/versions/3.9.6/envs/hilary/lib/python3.9/site-packages (from hilary==1.2.0) (0.0.3)\n",
      "Requirement already satisfied: et-xmlfile in /home/gathenes/.pyenv/versions/3.9.6/envs/hilary/lib/python3.9/site-packages (from openpyxl<4,>=3.1->hilary==1.2.0) (1.1.0)\n",
      "Requirement already satisfied: python-dateutil>=2.8.2 in /home/gathenes/.pyenv/versions/3.9.6/envs/hilary/lib/python3.9/site-packages (from pandas<2.2,>=2.1->hilary==1.2.0) (2.8.2)\n",
      "Requirement already satisfied: tzdata>=2022.1 in /home/gathenes/.pyenv/versions/3.9.6/envs/hilary/lib/python3.9/site-packages (from pandas<2.2,>=2.1->hilary==1.2.0) (2024.1)\n",
      "Requirement already satisfied: pytz>=2020.1 in /home/gathenes/.pyenv/versions/3.9.6/envs/hilary/lib/python3.9/site-packages (from pandas<2.2,>=2.1->hilary==1.2.0) (2024.1)\n",
      "Requirement already satisfied: six>=1.5 in /home/gathenes/.pyenv/versions/3.9.6/envs/hilary/lib/python3.9/site-packages (from python-dateutil>=2.8.2->pandas<2.2,>=2.1->hilary==1.2.0) (1.16.0)\n",
      "Requirement already satisfied: click<9.0.0,>=7.1.1 in /home/gathenes/.pyenv/versions/3.9.6/envs/hilary/lib/python3.9/site-packages (from typer<1,>=0.9->hilary==1.2.0) (8.1.7)\n",
      "Requirement already satisfied: typing-extensions>=3.7.4.3 in /home/gathenes/.pyenv/versions/3.9.6/envs/hilary/lib/python3.9/site-packages (from typer<1,>=0.9->hilary==1.2.0) (4.9.0)\n",
      "\u001b[33mWARNING: You are using pip version 21.1.3; however, version 24.0 is available.\n",
      "You should consider upgrading via the '/home/gathenes/.pyenv/versions/3.9.6/envs/hilary/bin/python3.9 -m pip install --upgrade pip' command.\u001b[0m\n",
      "Requirement already satisfied: biopython in /home/gathenes/.pyenv/versions/3.9.6/envs/hilary/lib/python3.9/site-packages (1.83)\n",
      "Requirement already satisfied: numpy in /home/gathenes/.pyenv/versions/3.9.6/envs/hilary/lib/python3.9/site-packages (from biopython) (1.26.4)\n",
      "\u001b[33mWARNING: You are using pip version 21.1.3; however, version 24.0 is available.\n",
      "You should consider upgrading via the '/home/gathenes/.pyenv/versions/3.9.6/envs/hilary/bin/python3.9 -m pip install --upgrade pip' command.\u001b[0m\n"
     ]
    }
   ],
   "source": [
    "#!pip install hilary==1.2.0\n",
    "#!pip install biopython\n"
   ]
  },
  {
   "cell_type": "markdown",
   "metadata": {},
   "source": [
    "### 2.2 Process briney data"
   ]
  },
  {
   "cell_type": "code",
   "execution_count": 1,
   "metadata": {},
   "outputs": [],
   "source": [
    "import os\n",
    "import pandas as pd\n",
    "from tqdm import tqdm\n",
    "from hilary.utils import create_classes\n"
   ]
  },
  {
   "cell_type": "code",
   "execution_count": 3,
   "metadata": {},
   "outputs": [
    {
     "name": "stderr",
     "output_type": "stream",
     "text": [
      "  0%|          | 0/18 [00:00<?, ?it/s]"
     ]
    },
    {
     "name": "stderr",
     "output_type": "stream",
     "text": [
      "100%|██████████| 18/18 [04:16<00:00, 14.27s/it]\n"
     ]
    }
   ],
   "source": [
    "from compatible import Compatible\n",
    "compatible = Compatible()\n",
    "usecols = [\n",
    "    \"seq_id\",\n",
    "    \"chain\",\n",
    "    \"productive\",\n",
    "    \"v_full\",\n",
    "    \"j_full\",\n",
    "    \"cdr3_nt\",\n",
    "    \"v_start\",\n",
    "    \"vdj_nt\",\n",
    "    \"isotype\",\n",
    "]\n",
    "dirname = \"./data_with_scripts/data_from_briney/consensus-cdr3nt-90_minimal\"\n",
    "dfs = []\n",
    "for filename in tqdm(os.listdir(dirname)):\n",
    "    df = pd.read_csv(os.path.join(dirname, filename), usecols=usecols)\n",
    "    dfs.append(compatible.df2airr(df))\n",
    "df = pd.concat(dfs, ignore_index=True)\n",
    "df[\"sequence_id\"] = df.index\n",
    "filename = \"./data_with_scripts/data_from_briney/316188_ids.tsv.gz\"\n",
    "df[[\"seq_id\", \"sequence_id\"]].to_csv(filename, sep=\"\\t\", index=False)\n",
    "df.drop(\"seq_id\", axis=1, inplace=True)\n",
    "filename = \"./data_with_scripts/data_from_briney/316188.tsv.gz\"\n",
    "usecols = [\n",
    "    \"sequence_id\",\n",
    "    \"v_call\",\n",
    "    \"j_call\",\n",
    "    \"junction\",\n",
    "    \"v_sequence_alignment\",\n",
    "    \"j_sequence_alignment\",\n",
    "    \"v_germline_alignment\",\n",
    "    \"j_germline_alignment\",\n",
    "]\n",
    "df[usecols].to_csv(filename, sep=\"\\t\", index=False)\n"
   ]
  },
  {
   "cell_type": "code",
   "execution_count": 4,
   "metadata": {},
   "outputs": [],
   "source": [
    "usecols = ['sequence_id',\n",
    "        'v_call',\n",
    "        'j_call',\n",
    "        'junction',\n",
    "        'v_sequence_alignment',\n",
    "        'j_sequence_alignment',\n",
    "        'v_germline_alignment',\n",
    "        'j_germline_alignment']\n",
    "filename = \"data_with_scripts/data_from_briney/316188.tsv.gz\"\n",
    "dataframe = pd.read_table(filename,usecols=usecols)\n"
   ]
  },
  {
   "cell_type": "code",
   "execution_count": 5,
   "metadata": {},
   "outputs": [
    {
     "name": "stdout",
     "output_type": "stream",
     "text": [
      "Index(['sequence_id', 'v_call', 'j_call', 'junction', 'v_sequence_alignment',\n",
      "       'j_sequence_alignment', 'v_germline_alignment', 'j_germline_alignment'],\n",
      "      dtype='object')\n"
     ]
    }
   ],
   "source": [
    "print(dataframe.columns)\n"
   ]
  },
  {
   "cell_type": "markdown",
   "metadata": {},
   "source": [
    "## 3. Package tutorial to infer lineages in python script"
   ]
  },
  {
   "cell_type": "markdown",
   "metadata": {},
   "source": [
    "### 3.0 Uncomment next line to run on 100 000 sequences"
   ]
  },
  {
   "cell_type": "code",
   "execution_count": 9,
   "metadata": {},
   "outputs": [],
   "source": [
    "#dataframe=dataframe.head(100000)\n"
   ]
  },
  {
   "cell_type": "markdown",
   "metadata": {},
   "source": [
    "### 3.1 Create apriori object"
   ]
  },
  {
   "cell_type": "code",
   "execution_count": 6,
   "metadata": {},
   "outputs": [],
   "source": [
    "from hilary.apriori import Apriori\n",
    "apriori = Apriori(silent=False, threads=-1, precision=0.99, sensitivity=0.9) # show progress bars, use all threads\n"
   ]
  },
  {
   "cell_type": "code",
   "execution_count": 7,
   "metadata": {},
   "outputs": [],
   "source": [
    "dataframe=dataframe.dropna()\n"
   ]
  },
  {
   "cell_type": "code",
   "execution_count": 8,
   "metadata": {},
   "outputs": [
    {
     "name": "stderr",
     "output_type": "stream",
     "text": [
      "100%|██████████| 7180/7180 [09:03<00:00, 13.21it/s]  \n"
     ]
    }
   ],
   "source": [
    "dataframe_processed = apriori.preprocess(df=dataframe, df_kappa=None)\n",
    "apriori.classes= create_classes(dataframe_processed)\n"
   ]
  },
  {
   "cell_type": "markdown",
   "metadata": {},
   "source": [
    "### 3.2 Infer histogram, parameters rho and mu, and sensitivity & precision thresholds for all classes"
   ]
  },
  {
   "cell_type": "code",
   "execution_count": 9,
   "metadata": {},
   "outputs": [
    {
     "name": "stdout",
     "output_type": "stream",
     "text": [
      "2024-03-08 04:48:38 [debug    ] Computing CDR3 hamming distances within all large VJl classes.\n"
     ]
    },
    {
     "name": "stderr",
     "output_type": "stream",
     "text": [
      "100%|██████████| 4295/4295 [02:37<00:00, 27.21it/s] \n",
      "100%|██████████| 4295/4295 [00:18<00:00, 232.60it/s]\n",
      "100%|██████████| 83/83 [00:00<00:00, 116.75it/s]\n"
     ]
    }
   ],
   "source": [
    "apriori.get_histograms(dataframe_processed)\n",
    "apriori.get_parameters()\n",
    "apriori.get_thresholds()\n"
   ]
  },
  {
   "cell_type": "markdown",
   "metadata": {},
   "source": [
    "### 3.3 Create hilary object from apriori"
   ]
  },
  {
   "cell_type": "code",
   "execution_count": 11,
   "metadata": {},
   "outputs": [],
   "source": [
    "from hilary.inference import HILARy\n",
    "hilary=HILARy(apriori,df=dataframe_processed)\n"
   ]
  },
  {
   "cell_type": "markdown",
   "metadata": {},
   "source": [
    "### 3.4 Compute precise and sensitive clusters"
   ]
  },
  {
   "cell_type": "code",
   "execution_count": 12,
   "metadata": {},
   "outputs": [
    {
     "name": "stderr",
     "output_type": "stream",
     "text": [
      "100%|██████████| 7180/7180 [00:08<00:00, 879.15it/s] \n",
      "100%|██████████| 7180/7180 [00:08<00:00, 822.66it/s] \n"
     ]
    }
   ],
   "source": [
    "dataframe_cdr3=hilary.compute_prec_sens_clusters(df=dataframe_processed)\n"
   ]
  },
  {
   "cell_type": "markdown",
   "metadata": {},
   "source": [
    "### 3.5 Infer clonal families from these clusters"
   ]
  },
  {
   "cell_type": "code",
   "execution_count": 16,
   "metadata": {},
   "outputs": [
    {
     "name": "stderr",
     "output_type": "stream",
     "text": [
      "  0%|          | 0/7263 [00:00<?, ?it/s]"
     ]
    },
    {
     "name": "stderr",
     "output_type": "stream",
     "text": [
      "100%|██████████| 7263/7263 [25:20<00:00,  4.78it/s]\n",
      "100%|██████████| 7263/7263 [00:25<00:00, 279.99it/s]\n"
     ]
    }
   ],
   "source": [
    "hilary.get_xy_thresholds(df=dataframe_cdr3)\n"
   ]
  },
  {
   "cell_type": "code",
   "execution_count": 17,
   "metadata": {},
   "outputs": [],
   "source": [
    "hilary.classes[\"xy_threshold\"] = hilary.classes[\"xy_threshold\"]\n"
   ]
  },
  {
   "cell_type": "code",
   "execution_count": 18,
   "metadata": {},
   "outputs": [
    {
     "name": "stdout",
     "output_type": "stream",
     "text": [
      "2024-03-08 06:01:07 [debug    ] Checking alignment length.     alignment_length=271\n",
      "2024-03-08 06:01:08 [debug    ] Inferring family clusters for small groups.\n"
     ]
    },
    {
     "name": "stderr",
     "output_type": "stream",
     "text": [
      "100%|██████████| 4133/4133 [00:16<00:00, 256.90it/s]\n"
     ]
    },
    {
     "name": "stdout",
     "output_type": "stream",
     "text": [
      "2024-03-08 06:01:33 [debug    ] Inferring family clusters for large groups.\n"
     ]
    }
   ],
   "source": [
    "dataframe_inferred = hilary.infer(df=dataframe_cdr3)\n"
   ]
  },
  {
   "cell_type": "code",
   "execution_count": 20,
   "metadata": {},
   "outputs": [],
   "source": [
    "dataframe_inferred.to_csv(\n",
    "    \"./data_with_scripts/data_from_briney/briney_clonal_families.csv\"\n",
    ")\n"
   ]
  }
 ],
 "metadata": {
  "kernelspec": {
   "display_name": "sra",
   "language": "python",
   "name": "python3"
  },
  "language_info": {
   "codemirror_mode": {
    "name": "ipython",
    "version": 3
   },
   "file_extension": ".py",
   "mimetype": "text/x-python",
   "name": "python",
   "nbconvert_exporter": "python",
   "pygments_lexer": "ipython3",
   "version": "3.9.6"
  }
 },
 "nbformat": 4,
 "nbformat_minor": 4
}
