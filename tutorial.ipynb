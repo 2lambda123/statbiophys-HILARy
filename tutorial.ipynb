{
 "cells": [
  {
   "cell_type": "markdown",
   "metadata": {},
   "source": [
    "# **Example inference pipeline**\n",
    "This notebook infers lineages from the [Briney et al. 2019](https://doi.org/10.1038/s41586-019-0879-y) dataset."
   ]
  },
  {
   "cell_type": "markdown",
   "metadata": {},
   "source": [
    "##  1. Download data  \n",
    "Annotated data can be downloaded using links provided in the [briney/grp_paper repository](https://github.com/briney/grp_paper).  \n",
    "Uncomment following two lines to download all data in `./data/`  folder (make sure your current working directory is `.../HILARy/`)"
   ]
  },
  {
   "cell_type": "code",
   "execution_count": null,
   "metadata": {},
   "outputs": [],
   "source": [
    "#!wget http://burtonlab.s3.amazonaws.com/sequencing-data/hiseq_2016-supplement/316188_HNCHNBCXY_consensus_UID18-cdr3nt-90_minimal_071817.tar.gz\n",
    "#!tar -xvf 316188_HNCHNBCXY_consensus_UID18-cdr3nt-90_minimal_071817.tar.gz --directory benchmark/briney_dataset\n"
   ]
  },
  {
   "cell_type": "markdown",
   "metadata": {},
   "source": [
    "## 2. Convert Briney data into airr format required by Hilary"
   ]
  },
  {
   "cell_type": "markdown",
   "metadata": {},
   "source": [
    "### 2.1 install required libraries"
   ]
  },
  {
   "cell_type": "code",
   "execution_count": null,
   "metadata": {},
   "outputs": [],
   "source": [
    "!pip install hilary==1.1.7\n",
    "!pip install biopython\n"
   ]
  },
  {
   "cell_type": "markdown",
   "metadata": {},
   "source": [
    "### 2.2 Process briney data"
   ]
  },
  {
   "cell_type": "code",
   "execution_count": null,
   "metadata": {},
   "outputs": [],
   "source": [
    "import os\n",
    "import pandas as pd\n",
    "from tqdm import tqdm\n",
    "from hilary.utils import create_classes\n"
   ]
  },
  {
   "cell_type": "code",
   "execution_count": null,
   "metadata": {},
   "outputs": [],
   "source": [
    "from compatible import Compatible\n",
    "compatible = Compatible()\n",
    "usecols = [\n",
    "    \"seq_id\",\n",
    "    \"chain\",\n",
    "    \"productive\",\n",
    "    \"v_full\",\n",
    "    \"j_full\",\n",
    "    \"cdr3_nt\",\n",
    "    \"v_start\",\n",
    "    \"vdj_nt\",\n",
    "    \"isotype\",\n",
    "]\n",
    "dirname = \"./benchmark/briney_dataset/consensus-cdr3nt-90_minimal\"\n",
    "dfs = []\n",
    "for filename in tqdm(os.listdir(dirname)):\n",
    "    df = pd.read_csv(os.path.join(dirname, filename), usecols=usecols)\n",
    "    dfs.append(compatible.df2airr(df))\n",
    "df = pd.concat(dfs, ignore_index=True)\n",
    "df[\"sequence_id\"] = df.index\n",
    "filename = \"./benchmark/briney_dataset/316188_ids.tsv.gz\"\n",
    "df[[\"seq_id\", \"sequence_id\"]].to_csv(filename, sep=\"\\t\", index=False)\n",
    "df.drop(\"seq_id\", axis=1, inplace=True)\n",
    "filename = \"./benchmark/briney_dataset/316188.tsv.gz\"\n",
    "usecols = [\n",
    "    \"sequence_id\",\n",
    "    \"v_call\",\n",
    "    \"j_call\",\n",
    "    \"junction\",\n",
    "    \"v_sequence_alignment\",\n",
    "    \"j_sequence_alignment\",\n",
    "    \"v_germline_alignment\",\n",
    "    \"j_germline_alignment\",\n",
    "]\n",
    "df[usecols].to_csv(filename, sep=\"\\t\", index=False)\n"
   ]
  },
  {
   "cell_type": "code",
   "execution_count": null,
   "metadata": {},
   "outputs": [],
   "source": [
    "usecols = ['sequence_id',\n",
    "        'v_call',\n",
    "        'j_call',\n",
    "        'junction',\n",
    "        'v_sequence_alignment',\n",
    "        'j_sequence_alignment',\n",
    "        'v_germline_alignment',\n",
    "        'j_germline_alignment']\n",
    "filename = \"benchmark/briney_dataset/316188.tsv.gz\"\n",
    "dataframe = pd.read_table(filename,usecols=usecols)\n"
   ]
  },
  {
   "cell_type": "markdown",
   "metadata": {},
   "source": [
    "## 3. Package tutorial to infer lineages in python script"
   ]
  },
  {
   "cell_type": "markdown",
   "metadata": {},
   "source": [
    "### 3.0 Uncomment next line to run on 100 000 sequences"
   ]
  },
  {
   "cell_type": "code",
   "execution_count": null,
   "metadata": {},
   "outputs": [],
   "source": [
    "#dataframe=dataframe.head(100000)\n"
   ]
  },
  {
   "cell_type": "markdown",
   "metadata": {},
   "source": [
    "### 3.1 Create apriori object"
   ]
  },
  {
   "cell_type": "code",
   "execution_count": null,
   "metadata": {},
   "outputs": [],
   "source": [
    "from hilary.apriori import Apriori\n",
    "apriori = Apriori(silent=False, threads=-1, precision=0.99, sensitivity=0.9) # show progress bars, use all threads\n"
   ]
  },
  {
   "cell_type": "code",
   "execution_count": null,
   "metadata": {},
   "outputs": [],
   "source": [
    "dataframe_processed = apriori.preprocess(df=dataframe, df_kappa=None)\n",
    "apriori.classes= create_classes(dataframe_processed)\n"
   ]
  },
  {
   "cell_type": "markdown",
   "metadata": {},
   "source": [
    "### 3.2 Infer histogram, parameters rho and mu, and sensitivity & precision thresholds for all classes"
   ]
  },
  {
   "cell_type": "code",
   "execution_count": null,
   "metadata": {},
   "outputs": [],
   "source": [
    "apriori.get_histograms(dataframe_processed)\n",
    "apriori.get_parameters()\n",
    "apriori.get_thresholds()\n"
   ]
  },
  {
   "cell_type": "markdown",
   "metadata": {},
   "source": [
    "### 3.3 Create hilary object from apriori"
   ]
  },
  {
   "cell_type": "code",
   "execution_count": null,
   "metadata": {},
   "outputs": [],
   "source": [
    "from hilary.inference import HILARy\n",
    "hilary=HILARy(apriori) # hilary.df is what is being updated by the algorithm\n"
   ]
  },
  {
   "cell_type": "markdown",
   "metadata": {},
   "source": [
    "### 3.4 Compute precise and sensitive clusters"
   ]
  },
  {
   "cell_type": "code",
   "execution_count": null,
   "metadata": {},
   "outputs": [],
   "source": [
    "dataframe_cdr3=hilary.compute_prec_sens_clusters(df=dataframe_processed)\n"
   ]
  },
  {
   "cell_type": "markdown",
   "metadata": {},
   "source": [
    "### 3.5 Infer clonal families from these clusters"
   ]
  },
  {
   "cell_type": "code",
   "execution_count": null,
   "metadata": {},
   "outputs": [],
   "source": [
    "dataframe_inferred = hilary.infer(df=dataframe_cdr3)\n"
   ]
  },
  {
   "cell_type": "code",
   "execution_count": null,
   "metadata": {},
   "outputs": [],
   "source": [
    "dataframe_inferred.to_csv(\n",
    "    \"./benchmark/briney_dataset/briney_clonal_families.csv\"\n",
    ")\n"
   ]
  }
 ],
 "metadata": {
  "kernelspec": {
   "display_name": "sra",
   "language": "python",
   "name": "python3"
  },
  "language_info": {
   "codemirror_mode": {
    "name": "ipython",
    "version": 3
   },
   "file_extension": ".py",
   "mimetype": "text/x-python",
   "name": "python",
   "nbconvert_exporter": "python",
   "pygments_lexer": "ipython3",
   "version": "3.9.6"
  }
 },
 "nbformat": 4,
 "nbformat_minor": 4
}
